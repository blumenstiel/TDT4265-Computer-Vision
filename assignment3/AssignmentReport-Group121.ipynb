{
 "cells": [
  {
   "cell_type": "markdown",
   "metadata": {},
   "source": [
    "# Assignment 2 Report\n",
    "\n",
    "Group 121 – Etienne Gaucher, Benedikt Blumenstiel"
   ]
  },
  {
   "cell_type": "markdown",
   "metadata": {},
   "source": [
    "# Task 1\n",
    "\n",
    "## Task 1a)\n",
    "With zero-padding:\n",
    "\n",
    " 2 | -1 | 11 | -2 | -13\n",
    "---|---|---|---|---\n",
    " 10 | -4 | 8 | 2 | -18\n",
    " 14 | -1 | -1 | 6 | -9\n",
    "\n",
    "## Task 1b)\n",
    "The __\"Max Pooling\"__ Layer reduce the sensitivity to translationial variations due to the combination of multiple pixels.\n",
    "\n",
    "## Task 1c)\n",
    "As the kernel size is 5x5 the padding should be __2__ on each side to get the same shape.\n",
    "\n",
    "## Task 1d)\n",
    "As the size is reduced by 8 (512 - 504) in each dimension the kernel has a shape of __9 x 9__ (8 +1 centered pixel).\n",
    "\n",
    "## Task 1e)\n",
    "Based in the input shape of 504 x 504 the output shape of the pooling layer is __252 x 252__ as the stride of 2 divide the\n",
    "size in each dimension by 2 (504 / 2 = 252).\n",
    "\n",
    "## Task 1f)\n",
    "THe output shape of the second conv layer is __250 x 250__.\n",
    "\n",
    "## Task 1g)\n",
    "\\begin{align*}\n",
    "number\\ of\\ parameters =\\ & number\\ of\\ weights + number\\ of\\ baises\\\\\n",
    "number\\ of\\ parameters =\\ & 3 ∗ 5 ∗ 5 ∗ 32 + 32 +\\\\\n",
    "& 5 ∗ 5 ∗ 32 ∗ 64 + 64 +\\\\\n",
    "& 5 ∗ 5 ∗ 64 ∗ 128 + 128 +\\\\\n",
    "& 2048 ∗ 64 + 64 +\\\\\n",
    "& 64 ∗ 10 + 10\\\\\n",
    "=\\ & 390410\n",
    "\\end{align*}"
   ]
  },
  {
   "cell_type": "markdown",
   "metadata": {},
   "source": [
    "<br>\n",
    "<br>\n",
    "<br>\n",
    "\n",
    "# Task 2"
   ]
  },
  {
   "cell_type": "markdown",
   "metadata": {},
   "source": [
    "## Task 2c)\n",
    "![](task2c_train_loss.png)"
   ]
  },
  {
   "cell_type": "markdown",
   "metadata": {},
   "source": [
    "## Task 2d)"
   ]
  },
  {
   "cell_type": "markdown",
   "metadata": {},
   "source": [
    "<br>\n",
    "<br>\n",
    "<br>\n",
    "\n",
    "# Task 3"
   ]
  },
  {
   "cell_type": "markdown",
   "metadata": {},
   "source": [
    "![](task3_combined_comparison.png)\n"
   ]
  },
  {
   "cell_type": "markdown",
   "metadata": {},
   "source": [
    "<br>\n",
    "<br>\n",
    "<br>\n",
    "\n",
    "# Task 4"
   ]
  },
  {
   "cell_type": "markdown",
   "metadata": {},
   "source": [
    "## Task 4a)\n",
    "![](task4a_transfer_learning.png)\n",
    "\n",
    "The model reached a final validation accuracy of 0.903 with a validation loss of 0.33.\n",
    "\n",
    "Following the advice we choose this hyperparameters:\n",
    "* Adam Optimizer\n",
    "* batch_size = 32\n",
    "* learning_rate = 5e-4\n",
    "* epochs = 5\n",
    "* early_stop_count = 4"
   ]
  },
  {
   "cell_type": "markdown",
   "metadata": {},
   "source": [
    "## Task 4b)\n",
    "![](task4b_zebra_first_weights.png)\n",
    "![](task4b_zebra_first_activation.png)\n",
    "\n",
    "The ﬁlter weights (top row) and the activation to the corresponding ﬁlter (bottom row) of the ﬁrst\n",
    "convolutional layer in ResNet18 with indices [14, 26, 32, 49, 52].\n",
    "\n",
    "The brighter a area the higher the activation of the filter. The different filter extract different information from the\n",
    "image. For example, the selected filters are detecting the outline of the zebra (14th filter), edges (26th filter) and\n",
    "different colors (49th filter)."
   ]
  },
  {
   "cell_type": "markdown",
   "metadata": {
    "pycharm": {
     "name": "#%% md\n"
    }
   },
   "source": [
    "## Task 4c)\n",
    "![](task4c_zebra_last_conv_activation.png)\n",
    "\n",
    "The activation of the first ten filter in the last convolutional layer of ResNet18.\n",
    "\n",
    "The activation of this layer is abstract, but as the bride spots are shown the model has detected some patterns \n",
    "in the image. Each value does not represent a single pixel anymore but represents a concept like a head, body or leg. \n",
    "Based on these concept the following fully connected layers can classify the image. "
   ]
  }
 ],
 "metadata": {
  "kernelspec": {
   "display_name": "PyCharm (03_Mask_RCNN_matterport)",
   "language": "python",
   "name": "pycharm-a444bf89"
  },
  "language_info": {
   "codemirror_mode": {
    "name": "ipython",
    "version": 3
   },
   "file_extension": ".py",
   "mimetype": "text/x-python",
   "name": "python",
   "nbconvert_exporter": "python",
   "pygments_lexer": "ipython3",
   "version": "3.7.7"
  }
 },
 "nbformat": 4,
 "nbformat_minor": 4
}