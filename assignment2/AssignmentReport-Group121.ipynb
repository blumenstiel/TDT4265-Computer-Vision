{
 "cells": [
  {
   "cell_type": "markdown",
   "metadata": {},
   "source": [
    "# Assignment 2 Report\n",
    "\n",
    "Group 121 – Etienne Gaucher, Benedikt Blumenstiel"
   ]
  },
  {
   "cell_type": "markdown",
   "metadata": {},
   "source": [
    "This is an outline for your report to ease the amount of work required to create your report. Jupyter notebook supports markdown, and I recommend you to check out this [cheat sheet](https://github.com/adam-p/markdown-here/wiki/Markdown-Cheatsheet). If you are not familiar with markdown.\n",
    "\n",
    "Before delivery, **remember to convert this file to PDF**. You can do it in two ways:\n",
    "1. Print the webpage (ctrl+P or cmd+P)\n",
    "2. Export with latex. This is somewhat more difficult, but you'll get somehwat of a \"prettier\" PDF. Go to File -> Download as -> PDF via LaTeX. You might have to install nbconvert and pandoc through conda; `conda install nbconvert pandoc`."
   ]
  },
  {
   "cell_type": "markdown",
   "metadata": {},
   "source": [
    "# Task 1"
   ]
  },
  {
   "cell_type": "markdown",
   "metadata": {
    "pycharm": {
     "name": "#%% md\n"
    }
   },
   "source": [
    "## Task 1a)\n",
    "\n",
    "We first use the chain rule.\n",
    "\n",
    "$$\\frac{\\partial C}{\\partial w_{ji}} = \\sum \\limits_{k} \\frac{\\partial C}{\\partial z_k} \\frac{\\partial z_k}{\\partial a_j}\\frac{\\partial a_j}{\\partial z_j}\\frac{\\partial z_j}{\\partial w_{ji}}$$\n",
    "\n",
    "We have $\\frac{\\partial C}{\\partial z_k} = \\delta_k$ by definition, $\\frac{\\partial z_k}{\\partial a_j} = w_{kj}$, $\\frac{\\partial a_j}{\\partial z_j} = f'(z_j)$ and $\\frac{\\partial z_j}{\\partial w_{ji}} = x_i$.\n",
    "\n",
    "We get\n",
    "\n",
    "$$\\frac{\\partial C}{\\partial w_{ji}} = \\sum \\limits_{k} \\delta_k w_{kj} f'(z_j)x_i =f'(z_j)x_i \\sum \\limits_{k} \\delta_k w_{kj} $$\n",
    "\n",
    "Thus\n",
    "\n",
    "$$w_{ji} = w_{ji} - \\alpha \\frac{\\partial C}{\\partial w_{ji}} = w_{ji} - \\alpha   \\delta_j x_i$$ with $\\delta_j = f'(z_j) \\sum \\limits_{k}  w_{kj} \\delta_k $"
   ]
  },
  {
   "cell_type": "markdown",
   "metadata": {},
   "source": [
    "## Task 1b)\n",
    "\n",
    "We refer to $W_{KJ}$ as the weight matrix from the hidden layer to the output layer, having a shape of $K \\times J$ with\n",
    "$K$ is the number of output neurons and $J$ the number of hidden neurons. Similar, $W_{JI}$ is the weight matric from\n",
    "the input layer to the hidden layer with a shape of $J \\times I$, where $I$ is the number of input neurons.\n",
    "$\\alpha$ is the learning rate.\n",
    "$\\delta_1$ is the gradient between hidden layer and output layer, $\\delta_1$ is the gradient between input layer and\n",
    "hidden layer, $X$ the input vector, $y$ the target output vector and $\\hat y$ the predicted output vector.\n",
    "The gradient matrix has the same shape as the weight matrix.\n",
    "\n",
    "No idea if this is right...\n",
    "\n",
    "$$W_{KJ} = W_{KJ} - \\alpha \\times \\delta_1$$\n",
    "\n",
    "$$W_{JI} = W_{JI} - \\alpha \\times \\delta_2$$\n",
    "\n",
    "probably wrong\n",
    "\n",
    "$$\\delta_1 = (X)^T \\cdot - (y - \\hat y)$$\n",
    "\n",
    "$$\\delta_2 = ?$$\n",
    "\n",
    "\n"
   ]
  },
  {
   "cell_type": "markdown",
   "metadata": {},
   "source": [
    "# Task 2"
   ]
  },
  {
   "cell_type": "markdown",
   "metadata": {},
   "source": [
    "## Task 2c)\n",
    "![](task2c_train_loss.png)"
   ]
  },
  {
   "cell_type": "markdown",
   "metadata": {},
   "source": [
    "## Task 2d)\n",
    "\\begin{align*}\n",
    "\\text{Number of parameter} &= \\text{number of weights + number of biases} \\\\\n",
    "&= 785 \\times 64 + 64 \\times 10 + 0 \\\\\n",
    "&= 50 880\n",
    "\\end{align*}"
   ]
  },
  {
   "cell_type": "markdown",
   "metadata": {},
   "source": [
    "# Task 3"
   ]
  },
  {
   "cell_type": "markdown",
   "metadata": {},
   "source": [
    "FILL IN ANSWER.\n",
    "Maybe include a loss / accuracy plot here?"
   ]
  },
  {
   "cell_type": "markdown",
   "metadata": {},
   "source": [
    "# Task 4"
   ]
  },
  {
   "cell_type": "markdown",
   "metadata": {},
   "source": [
    "## Task 4a)\n",
    "\n",
    "We are looking for a number of neurons per hidden layer equal to the same number parameter than the previous model.\n",
    "\n",
    "\\begin{align*}\n",
    "\\text{Number of parameter} &= \\text{number of weights + number of biases} \\\\\n",
    "50 880 &= 785 \\times x + x \\times + x \\times 10 + 0 \\\\\n",
    "0 &= x^2 + 795x - 50 880\\\\\n",
    "x &= \\frac{795}{2} +   \\sqrt{(\\frac{795}{2})^2 + 50 880}\\\\\n",
    "x &= 59.5407\n",
    "\\end{align*}\n",
    "\n",
    "Therefore, we train the model with two hidden layer with 60 neurons each, resulting in 51 300 parameters."
   ]
  },
  {
   "cell_type": "markdown",
   "metadata": {},
   "source": [
    "## Task 4b)\n",
    "FILL IN ANSWER\n"
   ]
  },
  {
   "cell_type": "markdown",
   "metadata": {},
   "source": [
    "## Task 4d)\n",
    "FILL IN ANSWER"
   ]
  },
  {
   "cell_type": "markdown",
   "metadata": {},
   "source": [
    "## Task 4e)\n",
    "FILL IN ANSWER"
   ]
  }
 ],
 "metadata": {
  "kernelspec": {
   "display_name": "Python 3.8.1 64-bit ('py38': conda)",
   "language": "python",
   "name": "python38164bitpy38condac1f68ca5407a4349b0d7e37676f2fbb3"
  },
  "language_info": {
   "codemirror_mode": {
    "name": "ipython",
    "version": 3
   },
   "file_extension": ".py",
   "mimetype": "text/x-python",
   "name": "python",
   "nbconvert_exporter": "python",
   "pygments_lexer": "ipython3",
   "version": "3.8.1"
  }
 },
 "nbformat": 4,
 "nbformat_minor": 4
}